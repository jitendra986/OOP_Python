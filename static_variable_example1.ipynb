{
  "nbformat": 4,
  "nbformat_minor": 0,
  "metadata": {
    "colab": {
      "provenance": [],
      "authorship_tag": "ABX9TyMScRzsF5mef2HnkwR+Mgsj",
      "include_colab_link": true
    },
    "kernelspec": {
      "name": "python3",
      "display_name": "Python 3"
    },
    "language_info": {
      "name": "python"
    }
  },
  "cells": [
    {
      "cell_type": "markdown",
      "metadata": {
        "id": "view-in-github",
        "colab_type": "text"
      },
      "source": [
        "<a href=\"https://colab.research.google.com/github/jitendra986/OOP_Python/blob/main/static_variable_example1.ipynb\" target=\"_parent\"><img src=\"https://colab.research.google.com/assets/colab-badge.svg\" alt=\"Open In Colab\"/></a>"
      ]
    },
    {
      "cell_type": "code",
      "execution_count": null,
      "metadata": {
        "id": "C8mWbUD7vAW5"
      },
      "outputs": [],
      "source": [
        "# here no programmer can make changes instatic variable because I have made them private\n",
        "class Atm:\n",
        "  __counter = 1\n",
        "  #The variable that are declared outside constructor static/class variable\n",
        "  def __init__(self):\n",
        "    # both the variable are private now\n",
        "    #All the variable are instance variable and declare inside constructor.\n",
        "    self.__pin=\"\"\n",
        "    self.__balance=0\n",
        "\n",
        "    self.sno = Atm.__counter\n",
        "\n",
        "    Atm.__counter = Atm.__counter+1\n",
        "\n",
        "    print(id(self))\n",
        "    #self.menu()\n",
        "\n",
        "  @staticmethod\n",
        "  def get_counter():\n",
        "    return Atm.__counter\n",
        "\n",
        "  @staticmethod\n",
        "  def set_counter( new):\n",
        "    if type(new)==int:\n",
        "      Atm.__counter = new\n",
        "    else:\n",
        "      print(\"Not allowed\")\n",
        "\n",
        "  def menu(self):\n",
        "    user_input = input(\"\"\"\n",
        "                      Hello, how would you like to proceed?\n",
        "                      1. Enter 1 to create pin\n",
        "                      2. Enter 2 to deposit\n",
        "                      3. Enter 3 to withdraw\n",
        "                      4. Enter 4 to check balance\n",
        "                      5. Enter 5 to exit\n",
        "    \"\"\")\n",
        "\n",
        "    if user_input==\"1\":\n",
        "      self.__create_pin()\n",
        "    elif user_input==\"2\":\n",
        "      self.deposit()\n",
        "    elif user_input==\"3\":\n",
        "      self.withdraw()\n",
        "    elif user_input==\"4\":\n",
        "      self.check_balance()\n",
        "    else:\n",
        "      print(\"bye\")\n",
        "\n",
        "  def __create_pin(self):\n",
        "    self.__pin= input(\"Enter your pin\")\n",
        "    print(\"Pin set successfully\")\n",
        "\n",
        "  def deposit(self):\n",
        "    temp = input(\"Enter your pin\")\n",
        "    if temp == self.__pin:\n",
        "      amount = int(input(\"Enter the amount\"))\n",
        "      self.__balance = self.__balance +amount\n",
        "      print(\"Deposit Successful\")\n",
        "    else:\n",
        "      print(\"Invalid pin\")\n",
        "  def withdraw(self):\n",
        "    temp = input(\"Enter your pin\")\n",
        "    if temp == self.__pin:\n",
        "      amount = int(input(\"Enter the amount\"))\n",
        "      if amount < self.__balance:\n",
        "        self.__balance = self.__balance - amount\n",
        "        print(\"Withdraw Successful\")\n",
        "      else:\n",
        "        print(\"Insufficient fund\")\n",
        "    else:\n",
        "      print(\"Invalid pin\")\n",
        "\n",
        "  def check_balance(self):\n",
        "   temp = input(\"Enter your pin\")\n",
        "\n",
        "   if temp ==self.__pin:\n",
        "    print(self.__balance)\n",
        "   else:\n",
        "    print(\"Invalid pin\")"
      ]
    },
    {
      "cell_type": "code",
      "source": [
        "c1=Atm()"
      ],
      "metadata": {
        "colab": {
          "base_uri": "https://localhost:8080/"
        },
        "id": "xrwQa4PkvGTE",
        "outputId": "7d3c3d76-3b86-4fb7-9c31-1e916198951a"
      },
      "execution_count": null,
      "outputs": [
        {
          "output_type": "stream",
          "name": "stdout",
          "text": [
            "139462604996080\n"
          ]
        }
      ]
    },
    {
      "cell_type": "code",
      "source": [
        "c2 =Atm()"
      ],
      "metadata": {
        "colab": {
          "base_uri": "https://localhost:8080/"
        },
        "id": "2xznT9UTvKLG",
        "outputId": "916f6bce-9c0e-40e6-e81e-0995342a37cb"
      },
      "execution_count": null,
      "outputs": [
        {
          "output_type": "stream",
          "name": "stdout",
          "text": [
            "139462604993728\n"
          ]
        }
      ]
    },
    {
      "cell_type": "code",
      "source": [
        "c3 =Atm()"
      ],
      "metadata": {
        "colab": {
          "base_uri": "https://localhost:8080/"
        },
        "id": "2hCBEQTxvOQK",
        "outputId": "659770e4-6b6d-49cd-abe4-845f2356c9b4"
      },
      "execution_count": null,
      "outputs": [
        {
          "output_type": "stream",
          "name": "stdout",
          "text": [
            "139462604994736\n"
          ]
        }
      ]
    },
    {
      "cell_type": "code",
      "source": [
        "c3.sno"
      ],
      "metadata": {
        "colab": {
          "base_uri": "https://localhost:8080/"
        },
        "id": "gNli0kkdvQAp",
        "outputId": "aec71120-f3cb-4353-97a8-728558faf85a"
      },
      "execution_count": null,
      "outputs": [
        {
          "output_type": "execute_result",
          "data": {
            "text/plain": [
              "3"
            ]
          },
          "metadata": {},
          "execution_count": 5
        }
      ]
    },
    {
      "cell_type": "code",
      "source": [
        "c1.get_counter()"
      ],
      "metadata": {
        "colab": {
          "base_uri": "https://localhost:8080/"
        },
        "id": "uU-IDcaJzj-A",
        "outputId": "6db10b92-cd23-4c6f-e2f9-2e91c5e35b37"
      },
      "execution_count": null,
      "outputs": [
        {
          "output_type": "execute_result",
          "data": {
            "text/plain": [
              "4"
            ]
          },
          "metadata": {},
          "execution_count": 6
        }
      ]
    },
    {
      "cell_type": "code",
      "source": [
        "Atm.get_counter()"
      ],
      "metadata": {
        "colab": {
          "base_uri": "https://localhost:8080/"
        },
        "id": "wICm3LTTz0bA",
        "outputId": "4b7e7108-6fbf-4e36-da6a-aaf3d3d63ba4"
      },
      "execution_count": null,
      "outputs": [
        {
          "output_type": "execute_result",
          "data": {
            "text/plain": [
              "4"
            ]
          },
          "metadata": {},
          "execution_count": 7
        }
      ]
    },
    {
      "cell_type": "code",
      "source": [
        "Atm.set_counter(5)"
      ],
      "metadata": {
        "id": "BkTKfJ5P0yTW"
      },
      "execution_count": null,
      "outputs": []
    },
    {
      "cell_type": "code",
      "source": [
        "Atm.get_counter()"
      ],
      "metadata": {
        "colab": {
          "base_uri": "https://localhost:8080/"
        },
        "id": "oawzA2Zx02nI",
        "outputId": "105cd201-c291-433b-834a-b6ebef7f681e"
      },
      "execution_count": null,
      "outputs": [
        {
          "output_type": "execute_result",
          "data": {
            "text/plain": [
              "5"
            ]
          },
          "metadata": {},
          "execution_count": 9
        }
      ]
    },
    {
      "cell_type": "code",
      "source": [
        "c1.get_counter()"
      ],
      "metadata": {
        "colab": {
          "base_uri": "https://localhost:8080/"
        },
        "id": "kGCH2kTF06Hu",
        "outputId": "8b81fdbf-f796-40d1-9c3e-7a9989977d87"
      },
      "execution_count": null,
      "outputs": [
        {
          "output_type": "execute_result",
          "data": {
            "text/plain": [
              "5"
            ]
          },
          "metadata": {},
          "execution_count": 10
        }
      ]
    },
    {
      "cell_type": "code",
      "source": [
        "c2.sno"
      ],
      "metadata": {
        "colab": {
          "base_uri": "https://localhost:8080/"
        },
        "id": "3GlWe4Pz1FiD",
        "outputId": "66a8168e-1430-463a-996a-9919752fc38e"
      },
      "execution_count": null,
      "outputs": [
        {
          "output_type": "execute_result",
          "data": {
            "text/plain": [
              "2"
            ]
          },
          "metadata": {},
          "execution_count": 12
        }
      ]
    },
    {
      "cell_type": "code",
      "source": [],
      "metadata": {
        "id": "lMtsiFfo4y33"
      },
      "execution_count": null,
      "outputs": []
    }
  ]
}