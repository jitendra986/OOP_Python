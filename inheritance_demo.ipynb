{
  "nbformat": 4,
  "nbformat_minor": 0,
  "metadata": {
    "colab": {
      "provenance": [],
      "authorship_tag": "ABX9TyNZFEFedQZn0EIdmF9HsuKi",
      "include_colab_link": true
    },
    "kernelspec": {
      "name": "python3",
      "display_name": "Python 3"
    },
    "language_info": {
      "name": "python"
    }
  },
  "cells": [
    {
      "cell_type": "markdown",
      "metadata": {
        "id": "view-in-github",
        "colab_type": "text"
      },
      "source": [
        "<a href=\"https://colab.research.google.com/github/jitendra986/OOP_Python/blob/main/inheritance_demo.ipynb\" target=\"_parent\"><img src=\"https://colab.research.google.com/assets/colab-badge.svg\" alt=\"Open In Colab\"/></a>"
      ]
    },
    {
      "cell_type": "code",
      "execution_count": 1,
      "metadata": {
        "colab": {
          "base_uri": "https://localhost:8080/"
        },
        "id": "_yIaPVFfmUuf",
        "outputId": "422798e5-a96b-4978-f411-e634dd7ee7f9"
      },
      "outputs": [
        {
          "output_type": "stream",
          "name": "stdout",
          "text": [
            "Enroll\n",
            "Review\n",
            "Login\n",
            "Register\n"
          ]
        }
      ],
      "source": [
        "class User:\n",
        "\n",
        "  def login(self):\n",
        "    print('Login')\n",
        "\n",
        "  def register(self):\n",
        "    print('Register')\n",
        "\n",
        "class Student(User):\n",
        "  def enroll(self):\n",
        "    print(\"Enroll\")\n",
        "\n",
        "  def review(self):\n",
        "    print(\"Review\")\n",
        "\n",
        "stu1 = Student()\n",
        "\n",
        "stu1.enroll()\n",
        "stu1.review()\n",
        "stu1.login()\n",
        "stu1.register()"
      ]
    }
  ]
}