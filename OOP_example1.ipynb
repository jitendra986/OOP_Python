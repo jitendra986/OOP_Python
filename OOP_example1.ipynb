{
  "nbformat": 4,
  "nbformat_minor": 0,
  "metadata": {
    "colab": {
      "provenance": [],
      "authorship_tag": "ABX9TyMuaN9uqZzsn56hMxeV3rY5",
      "include_colab_link": true
    },
    "kernelspec": {
      "name": "python3",
      "display_name": "Python 3"
    },
    "language_info": {
      "name": "python"
    }
  },
  "cells": [
    {
      "cell_type": "markdown",
      "metadata": {
        "id": "view-in-github",
        "colab_type": "text"
      },
      "source": [
        "<a href=\"https://colab.research.google.com/github/jitendra986/OOP_Python/blob/main/OOP_example1.ipynb\" target=\"_parent\"><img src=\"https://colab.research.google.com/assets/colab-badge.svg\" alt=\"Open In Colab\"/></a>"
      ]
    },
    {
      "cell_type": "code",
      "execution_count": 4,
      "metadata": {
        "id": "Qtrb13w-AED8"
      },
      "outputs": [],
      "source": [
        "class Atm:\n",
        "  def __init__(self):\n",
        "    self.pin=\"\"\n",
        "    self.balance=0\n",
        "\n",
        "    self.menu()\n",
        "\n",
        "  def menu(self):\n",
        "    user_input = input(\"\"\"\n",
        "                      Hello, how would you like to proceed?\n",
        "                      1. Enter 1 to create pin\n",
        "                      2. Enter 2 to deposit\n",
        "                      3. Enter 3 to withdraw\n",
        "                      4. Enter 4 to check balance\n",
        "                      5. Enter 5 to exit\n",
        "    \"\"\")\n",
        "\n",
        "    if user_input==\"1\":\n",
        "      self.create_pin()\n",
        "    elif user_input==\"2\":\n",
        "      self.deposit()\n",
        "    elif user_input==\"3\":\n",
        "      self.withdraw()\n",
        "    elif user_input==\"4\":\n",
        "      self.check_balance()\n",
        "    else:\n",
        "      print(\"bye\")\n",
        "\n",
        "  def create_pin(self):\n",
        "    self.pin= input(\"Enter your pin\")\n",
        "    print(\"Pin set successfully\")\n",
        "\n",
        "  def deposit(self):\n",
        "    temp = input(\"Enter your pin\")\n",
        "    if temp == self.pin:\n",
        "      amount = int(input(\"Enter the amount\"))\n",
        "      self.balance = self.balance +amount\n",
        "      print(\"Deposit Successful\")\n",
        "    else:\n",
        "      print(\"Invalid pin\")\n",
        "  def withdraw(self):\n",
        "    temp = input(\"Enter your pin\")\n",
        "    if temp == self.pin:\n",
        "      amount = int(input(\"Enter the amount\"))\n",
        "      if amount < self.balance:\n",
        "        self.balance = self.balance - amount\n",
        "        print(\"Withdraw Successful\")\n",
        "      else:\n",
        "        print(\"Insufficient fund\")\n",
        "    else:\n",
        "      print(\"Invalid pin\")\n",
        "\n",
        "  def check_balance(self):\n",
        "   temp = input(\"Enter your pin\")\n",
        "\n",
        "   if temp ==self.pin:\n",
        "    print(self.balance)\n",
        "   else:\n",
        "    print(\"Invalid pin\")"
      ]
    },
    {
      "cell_type": "code",
      "source": [
        "sbi = Atm()"
      ],
      "metadata": {
        "colab": {
          "base_uri": "https://localhost:8080/"
        },
        "id": "QmOYH2uxQmSk",
        "outputId": "17db50c3-2897-4fe0-96fe-aba656444dc9"
      },
      "execution_count": 6,
      "outputs": [
        {
          "output_type": "stream",
          "name": "stdout",
          "text": [
            "\n",
            "                      Hello, how would you like to proceed?\n",
            "                      1. Enter 1 to create pin\n",
            "                      2. Enter 2 to deposit\n",
            "                      3. Enter 3 to withdraw\n",
            "                      4. Enter 4 to check balance\n",
            "                      5. Enter 5 to exit\n",
            "    1\n",
            "Enter your pin9685\n",
            "Pin set successfully\n"
          ]
        }
      ]
    },
    {
      "cell_type": "code",
      "source": [
        "sbi.deposit()"
      ],
      "metadata": {
        "colab": {
          "base_uri": "https://localhost:8080/"
        },
        "id": "dRSl5q1eQq7D",
        "outputId": "65ce47b0-4740-4098-e808-93c070e5d1ef"
      },
      "execution_count": 7,
      "outputs": [
        {
          "output_type": "stream",
          "name": "stdout",
          "text": [
            "Enter your pin9685\n",
            "Enter the amount10000\n",
            "Deposit Successful\n"
          ]
        }
      ]
    },
    {
      "cell_type": "code",
      "source": [
        "sbi.deposit()"
      ],
      "metadata": {
        "colab": {
          "base_uri": "https://localhost:8080/"
        },
        "id": "mZDWRGR5ZkJK",
        "outputId": "ad23bb10-dd9e-4b88-f2cb-5dce78ce90e4"
      },
      "execution_count": 9,
      "outputs": [
        {
          "output_type": "stream",
          "name": "stdout",
          "text": [
            "Enter your pin9685\n",
            "Enter the amount40000\n",
            "Deposit Successful\n"
          ]
        }
      ]
    },
    {
      "cell_type": "code",
      "source": [
        "sbi.check_balance()"
      ],
      "metadata": {
        "colab": {
          "base_uri": "https://localhost:8080/"
        },
        "id": "ThJJGuFZZqhI",
        "outputId": "f5c5610a-860d-4603-c73c-a20dbf4931a2"
      },
      "execution_count": 10,
      "outputs": [
        {
          "output_type": "stream",
          "name": "stdout",
          "text": [
            "Enter your pin9685\n",
            "50000\n"
          ]
        }
      ]
    },
    {
      "cell_type": "code",
      "source": [
        "sbi.withdraw()"
      ],
      "metadata": {
        "colab": {
          "base_uri": "https://localhost:8080/"
        },
        "id": "floNH-23aDPu",
        "outputId": "28861571-d22a-4466-f900-d65fa1a39a17"
      },
      "execution_count": 11,
      "outputs": [
        {
          "output_type": "stream",
          "name": "stdout",
          "text": [
            "Enter your pin9685\n",
            "Enter the amount25000\n",
            "Withdraw Successful\n"
          ]
        }
      ]
    },
    {
      "cell_type": "code",
      "source": [
        "sbi.check_balance()"
      ],
      "metadata": {
        "colab": {
          "base_uri": "https://localhost:8080/"
        },
        "id": "RcJ86OptaLjw",
        "outputId": "6fed6127-3428-4a0e-94e8-18e70043d34b"
      },
      "execution_count": 12,
      "outputs": [
        {
          "output_type": "stream",
          "name": "stdout",
          "text": [
            "Enter your pin9685\n",
            "25000\n"
          ]
        }
      ]
    },
    {
      "cell_type": "code",
      "source": [],
      "metadata": {
        "id": "OFQYuzdOaP1_"
      },
      "execution_count": null,
      "outputs": []
    }
  ]
}