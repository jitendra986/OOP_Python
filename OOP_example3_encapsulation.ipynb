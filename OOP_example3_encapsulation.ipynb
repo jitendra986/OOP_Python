{
  "nbformat": 4,
  "nbformat_minor": 0,
  "metadata": {
    "colab": {
      "provenance": [],
      "authorship_tag": "ABX9TyPswqG5yopvYJ6bNEfk7ON5",
      "include_colab_link": true
    },
    "kernelspec": {
      "name": "python3",
      "display_name": "Python 3"
    },
    "language_info": {
      "name": "python"
    }
  },
  "cells": [
    {
      "cell_type": "markdown",
      "metadata": {
        "id": "view-in-github",
        "colab_type": "text"
      },
      "source": [
        "<a href=\"https://colab.research.google.com/github/jitendra986/OOP_Python/blob/main/OOP_example3_encapsulation.ipynb\" target=\"_parent\"><img src=\"https://colab.research.google.com/assets/colab-badge.svg\" alt=\"Open In Colab\"/></a>"
      ]
    },
    {
      "cell_type": "code",
      "execution_count": null,
      "metadata": {
        "id": "dZZRHcHjOXao"
      },
      "outputs": [],
      "source": [
        "class Atm:\n",
        "  def __init__(self):\n",
        "    # both the variable are private now\n",
        "    self.__pin=\"\"\n",
        "    self.__balance=0\n",
        "\n",
        "    print(id(self))\n",
        "\n",
        "    self.menu()\n",
        "\n",
        "  def menu(self):\n",
        "    user_input = input(\"\"\"\n",
        "                      Hello, how would you like to proceed?\n",
        "                      1. Enter 1 to create pin\n",
        "                      2. Enter 2 to deposit\n",
        "                      3. Enter 3 to withdraw\n",
        "                      4. Enter 4 to check balance\n",
        "                      5. Enter 5 to exit\n",
        "    \"\"\")\n",
        "\n",
        "    if user_input==\"1\":\n",
        "      self.__create_pin()\n",
        "    elif user_input==\"2\":\n",
        "      self.deposit()\n",
        "    elif user_input==\"3\":\n",
        "      self.withdraw()\n",
        "    elif user_input==\"4\":\n",
        "      self.check_balance()\n",
        "    else:\n",
        "      print(\"bye\")\n",
        "\n",
        "  def __create_pin(self):\n",
        "    self.__pin= input(\"Enter your pin\")\n",
        "    print(\"Pin set successfully\")\n",
        "\n",
        "  def deposit(self):\n",
        "    temp = input(\"Enter your pin\")\n",
        "    if temp == self.__pin:\n",
        "      amount = int(input(\"Enter the amount\"))\n",
        "      self.__balance = self.__balance +amount\n",
        "      print(\"Deposit Successful\")\n",
        "    else:\n",
        "      print(\"Invalid pin\")\n",
        "  def withdraw(self):\n",
        "    temp = input(\"Enter your pin\")\n",
        "    if temp == self.__pin:\n",
        "      amount = int(input(\"Enter the amount\"))\n",
        "      if amount < self.__balance:\n",
        "        self.__balance = self.__balance - amount\n",
        "        print(\"Withdraw Successful\")\n",
        "      else:\n",
        "        print(\"Insufficient fund\")\n",
        "    else:\n",
        "      print(\"Invalid pin\")\n",
        "\n",
        "  def check_balance(self):\n",
        "   temp = input(\"Enter your pin\")\n",
        "\n",
        "   if temp ==self.__pin:\n",
        "    print(self.__balance)\n",
        "   else:\n",
        "    print(\"Invalid pin\")"
      ]
    },
    {
      "cell_type": "code",
      "source": [
        "sbi = Atm()"
      ],
      "metadata": {
        "colab": {
          "base_uri": "https://localhost:8080/"
        },
        "id": "Wcka6QQ1PbFY",
        "outputId": "744c727d-08e2-4539-91af-2dc93ec0182b"
      },
      "execution_count": null,
      "outputs": [
        {
          "output_type": "stream",
          "name": "stdout",
          "text": [
            "137753596296304\n",
            "\n",
            "                      Hello, how would you like to proceed?\n",
            "                      1. Enter 1 to create pin\n",
            "                      2. Enter 2 to deposit\n",
            "                      3. Enter 3 to withdraw\n",
            "                      4. Enter 4 to check balance\n",
            "                      5. Enter 5 to exit\n",
            "    1\n",
            "Enter your pin9685\n",
            "Pin set successfully\n"
          ]
        }
      ]
    },
    {
      "cell_type": "code",
      "source": [
        "sbi.deposit()"
      ],
      "metadata": {
        "colab": {
          "base_uri": "https://localhost:8080/"
        },
        "id": "7RSBlES1Pd5I",
        "outputId": "ec4fa1c6-e393-464b-abbd-e32bf7cc96c1"
      },
      "execution_count": null,
      "outputs": [
        {
          "output_type": "stream",
          "name": "stdout",
          "text": [
            "Enter your pin9685\n",
            "Enter the amount20000\n",
            "Deposit Successful\n"
          ]
        }
      ]
    },
    {
      "cell_type": "code",
      "source": [
        "sbi.check_balance()"
      ],
      "metadata": {
        "colab": {
          "base_uri": "https://localhost:8080/"
        },
        "id": "-4XNUGfuPk9P",
        "outputId": "140baddb-4e85-428d-8d75-22a37bc4975e"
      },
      "execution_count": null,
      "outputs": [
        {
          "output_type": "stream",
          "name": "stdout",
          "text": [
            "Enter your pin9685\n",
            "20000\n"
          ]
        }
      ]
    },
    {
      "cell_type": "code",
      "source": [
        "sbi._Atm__balance=\"fhgs\"# this is the way one can change the private variable in Python.\n",
        "sbi.deposit()"
      ],
      "metadata": {
        "colab": {
          "base_uri": "https://localhost:8080/",
          "height": 350
        },
        "id": "GxTNWcZnPpm5",
        "outputId": "22104d3c-dc0a-44a1-ee56-4bb5926aa101"
      },
      "execution_count": null,
      "outputs": [
        {
          "name": "stdout",
          "output_type": "stream",
          "text": [
            "Enter your pin9685\n",
            "Enter the amount50000\n"
          ]
        },
        {
          "output_type": "error",
          "ename": "TypeError",
          "evalue": "ignored",
          "traceback": [
            "\u001b[0;31m---------------------------------------------------------------------------\u001b[0m",
            "\u001b[0;31mTypeError\u001b[0m                                 Traceback (most recent call last)",
            "\u001b[0;32m<ipython-input-10-6027e8c021ad>\u001b[0m in \u001b[0;36m<cell line: 2>\u001b[0;34m()\u001b[0m\n\u001b[1;32m      1\u001b[0m \u001b[0msbi\u001b[0m\u001b[0;34m.\u001b[0m\u001b[0m_Atm__balance\u001b[0m\u001b[0;34m=\u001b[0m\u001b[0;34m\"fhgs\"\u001b[0m\u001b[0;34m\u001b[0m\u001b[0;34m\u001b[0m\u001b[0m\n\u001b[0;32m----> 2\u001b[0;31m \u001b[0msbi\u001b[0m\u001b[0;34m.\u001b[0m\u001b[0mdeposit\u001b[0m\u001b[0;34m(\u001b[0m\u001b[0;34m)\u001b[0m\u001b[0;34m\u001b[0m\u001b[0;34m\u001b[0m\u001b[0m\n\u001b[0m",
            "\u001b[0;32m<ipython-input-6-1f3ccdf9ba83>\u001b[0m in \u001b[0;36mdeposit\u001b[0;34m(self)\u001b[0m\n\u001b[1;32m     38\u001b[0m     \u001b[0;32mif\u001b[0m \u001b[0mtemp\u001b[0m \u001b[0;34m==\u001b[0m \u001b[0mself\u001b[0m\u001b[0;34m.\u001b[0m\u001b[0m__pin\u001b[0m\u001b[0;34m:\u001b[0m\u001b[0;34m\u001b[0m\u001b[0;34m\u001b[0m\u001b[0m\n\u001b[1;32m     39\u001b[0m       \u001b[0mamount\u001b[0m \u001b[0;34m=\u001b[0m \u001b[0mint\u001b[0m\u001b[0;34m(\u001b[0m\u001b[0minput\u001b[0m\u001b[0;34m(\u001b[0m\u001b[0;34m\"Enter the amount\"\u001b[0m\u001b[0;34m)\u001b[0m\u001b[0;34m)\u001b[0m\u001b[0;34m\u001b[0m\u001b[0;34m\u001b[0m\u001b[0m\n\u001b[0;32m---> 40\u001b[0;31m       \u001b[0mself\u001b[0m\u001b[0;34m.\u001b[0m\u001b[0m__balance\u001b[0m \u001b[0;34m=\u001b[0m \u001b[0mself\u001b[0m\u001b[0;34m.\u001b[0m\u001b[0m__balance\u001b[0m \u001b[0;34m+\u001b[0m\u001b[0mamount\u001b[0m\u001b[0;34m\u001b[0m\u001b[0;34m\u001b[0m\u001b[0m\n\u001b[0m\u001b[1;32m     41\u001b[0m       \u001b[0mprint\u001b[0m\u001b[0;34m(\u001b[0m\u001b[0;34m\"Deposit Successful\"\u001b[0m\u001b[0;34m)\u001b[0m\u001b[0;34m\u001b[0m\u001b[0;34m\u001b[0m\u001b[0m\n\u001b[1;32m     42\u001b[0m     \u001b[0;32melse\u001b[0m\u001b[0;34m:\u001b[0m\u001b[0;34m\u001b[0m\u001b[0;34m\u001b[0m\u001b[0m\n",
            "\u001b[0;31mTypeError\u001b[0m: can only concatenate str (not \"int\") to str"
          ]
        }
      ]
    },
    {
      "cell_type": "code",
      "source": [
        "\"\"\"\n",
        "Note: Nothing in Python is truly private\n",
        "\n",
        "\n",
        "\"\"\""
      ],
      "metadata": {
        "id": "VGq23yDdRb0_"
      },
      "execution_count": null,
      "outputs": []
    }
  ]
}