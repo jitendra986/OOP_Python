{
  "nbformat": 4,
  "nbformat_minor": 0,
  "metadata": {
    "colab": {
      "provenance": [],
      "authorship_tag": "ABX9TyNRTNZneG8GwyZKV13IfwDj",
      "include_colab_link": true
    },
    "kernelspec": {
      "name": "python3",
      "display_name": "Python 3"
    },
    "language_info": {
      "name": "python"
    }
  },
  "cells": [
    {
      "cell_type": "markdown",
      "metadata": {
        "id": "view-in-github",
        "colab_type": "text"
      },
      "source": [
        "<a href=\"https://colab.research.google.com/github/jitendra986/OOP_Python/blob/main/inheritance_example1.ipynb\" target=\"_parent\"><img src=\"https://colab.research.google.com/assets/colab-badge.svg\" alt=\"Open In Colab\"/></a>"
      ]
    },
    {
      "cell_type": "code",
      "execution_count": null,
      "metadata": {
        "colab": {
          "base_uri": "https://localhost:8080/"
        },
        "id": "r24hf5VR4nc0",
        "outputId": "2deae84e-2752-4fe2-ca70-9b21ba89ffdc"
      },
      "outputs": [
        {
          "output_type": "stream",
          "name": "stdout",
          "text": [
            "Inside phone constructor\n"
          ]
        }
      ],
      "source": [
        "class Phone:\n",
        "  def __init__(self, price, brand,camera):\n",
        "    print(\"Inside phone constructor\")\n",
        "    self.price = price\n",
        "    self.brand = brand\n",
        "    self.camera = camera\n",
        "\n",
        "\n",
        "\n",
        "class SmartPhone(Phone):\n",
        "  pass\n",
        "\n",
        "s = SmartPhone(20000, \"Apple\",13)"
      ]
    },
    {
      "cell_type": "code",
      "source": [
        "############################Example of Single level Inheritance#############################################\n",
        "class Phone:\n",
        "  def __init__(self, price, brand,camera):\n",
        "    print(\"Inside phone constructor\")\n",
        "    self.price = price\n",
        "    self.brand = brand\n",
        "    self.camera = camera\n",
        "\n",
        "\n",
        "  def buy(self):\n",
        "    print(\"Buying a phone\")\n",
        "\n",
        "  def return_phone(self):\n",
        "    print(\"Returning a Phone\")\n",
        "\n",
        "class SmartPhone(Phone):\n",
        "  pass\n",
        "\n",
        "SmartPhone(20000, \"Apple\",\"13px\").buy()"
      ],
      "metadata": {
        "id": "CoYTz38d6JMF",
        "colab": {
          "base_uri": "https://localhost:8080/"
        },
        "outputId": "c6e918c2-db76-4d81-85fd-12501d670bc2"
      },
      "execution_count": 2,
      "outputs": [
        {
          "output_type": "stream",
          "name": "stdout",
          "text": [
            "Inside phone constructor\n",
            "Buying a phone\n"
          ]
        }
      ]
    },
    {
      "cell_type": "code",
      "source": [
        "############################Example of Multi level Inheritance#############################################\n",
        "class Product:\n",
        "  def review(self):\n",
        "    print(\"Product customer review\")\n",
        "\n",
        "class Phone(Product):\n",
        "  def __init__(self, price, brand,camera):\n",
        "    print(\"Inside phone constructor\")\n",
        "    self.__price =price\n",
        "    self.__brand = brand\n",
        "    self.__camera = camera\n",
        "\n",
        "  def buy(self):\n",
        "    print(\"Buying a Phone\")\n",
        "\n",
        "  def return_phone(self):\n",
        "    print(\"Returning a phone\")\n",
        "\n",
        "class SmartPhone(Phone):\n",
        "  pass\n",
        "\n",
        "s = SmartPhone(20000, \"Apple\",12)\n",
        "p = Phone(1000,\"Samsung\",1)\n",
        "s.buy()\n",
        "s.review()\n",
        "p.review()"
      ],
      "metadata": {
        "colab": {
          "base_uri": "https://localhost:8080/"
        },
        "id": "zGJQJe46BwMe",
        "outputId": "9c9c48a6-16ff-4865-e081-c4e6ab948a23"
      },
      "execution_count": 5,
      "outputs": [
        {
          "output_type": "stream",
          "name": "stdout",
          "text": [
            "Inside phone constructor\n",
            "Inside phone constructor\n",
            "Buying a Phone\n",
            "Product customer review\n",
            "Product customer review\n"
          ]
        }
      ]
    },
    {
      "cell_type": "code",
      "source": [
        "############################Example of Hierarchical Inheritance#############################################\n",
        "class Phone:\n",
        "  def __init__(self, price, brand,camera):\n",
        "    print(\"Inside phone constructor\")\n",
        "    self.price = price\n",
        "    self.brand = brand\n",
        "    self.camera = camera\n",
        "\n",
        "\n",
        "  def buy(self):\n",
        "    print(\"Buying a phone\")\n",
        "\n",
        "  def return_phone(self):\n",
        "    print(\"Returning a Phone\")\n",
        "\n",
        "class SmartPhone(Phone):\n",
        "  pass\n",
        "\n",
        "class FeaturePhone(Phone):\n",
        "  pass\n",
        "\n",
        "SmartPhone(20000, \"Apple\",\"13px\").buy()"
      ],
      "metadata": {
        "colab": {
          "base_uri": "https://localhost:8080/"
        },
        "id": "9UjPKD-wF_X-",
        "outputId": "55199322-5690-4c4e-bc1d-2c9b3365e0dd"
      },
      "execution_count": 7,
      "outputs": [
        {
          "output_type": "stream",
          "name": "stdout",
          "text": [
            "Inside phone constructor\n",
            "Buying a phone\n"
          ]
        }
      ]
    },
    {
      "cell_type": "code",
      "source": [
        "##################################### Multiple Inheritance #############################################\n",
        "class Phone:\n",
        "  def __init__(self, price, brand,camera):\n",
        "    print(\"Inside phone constructor\")\n",
        "    self.price = price\n",
        "    self.brand = brand\n",
        "    self.camera = camera\n",
        "\n",
        "\n",
        "  def buy(self):\n",
        "    print(\"Buying a phone\")\n",
        "\n",
        "class Product:\n",
        "  def review(self):\n",
        "    print(\"Customer review\")\n",
        "\n",
        "class SmartPhone(Phone, Product):\n",
        "  pass\n",
        "\n",
        "s= SmartPhone(20000, \"Apple\", 12)\n",
        "s.buy()\n",
        "s.review()"
      ],
      "metadata": {
        "colab": {
          "base_uri": "https://localhost:8080/"
        },
        "id": "K3iuJLxYGtBj",
        "outputId": "3e40e08f-935a-4cb3-cd81-398cb11d4762"
      },
      "execution_count": 9,
      "outputs": [
        {
          "output_type": "stream",
          "name": "stdout",
          "text": [
            "Inside phone constructor\n",
            "Buying a phone\n",
            "Customer review\n"
          ]
        }
      ]
    },
    {
      "cell_type": "code",
      "source": [
        "##################################### MRO(Method resolution order) Example #############################################\n",
        "class Phone:\n",
        "  def __init__(self, price, brand,camera):\n",
        "    print(\"Inside phone constructor\")\n",
        "    self.__price = price\n",
        "    self.brand = brand\n",
        "    self.camera = camera\n",
        "\n",
        "\n",
        "  def buy(self):\n",
        "    print(\"Buying a phone\")\n",
        "\n",
        "  def return_phone(self):\n",
        "    print(\"Returning a Phone\")\n",
        "\n",
        "class Product:\n",
        "  def buy(self):\n",
        "    print(\"Product buy method\")\n",
        "\n",
        "class SmartPhone(Product, Phone):\n",
        "  pass\n",
        "\n",
        "s= SmartPhone(20000, \"Apple\", 12)\n",
        "s.buy()\n"
      ],
      "metadata": {
        "colab": {
          "base_uri": "https://localhost:8080/"
        },
        "id": "36deI4uEIpc5",
        "outputId": "88230dcd-8de8-418a-891c-3616d7595b1b"
      },
      "execution_count": 11,
      "outputs": [
        {
          "output_type": "stream",
          "name": "stdout",
          "text": [
            "Inside phone constructor\n",
            "Product buy method\n"
          ]
        }
      ]
    },
    {
      "cell_type": "code",
      "source": [
        "############################  Example 1 on Types #########################################\n",
        "class A:\n",
        "  def m1(self):\n",
        "    return 20\n",
        "\n",
        "class B(A):\n",
        "  def m1(self):\n",
        "    return 30\n",
        "\n",
        "  def m2(self):\n",
        "    return 40\n",
        "\n",
        "class C(B):\n",
        "  def m2(self):\n",
        "    return 20\n",
        "\n",
        "obj1 = A()\n",
        "obj2 = B()\n",
        "obj3 = C()\n",
        "\n",
        "print(obj1.m1() + obj3.m1() + obj3.m2())"
      ],
      "metadata": {
        "colab": {
          "base_uri": "https://localhost:8080/"
        },
        "id": "fDQ9kgUeK0Yb",
        "outputId": "84946568-d858-42d1-a9e4-095912ccd24b"
      },
      "execution_count": 13,
      "outputs": [
        {
          "output_type": "stream",
          "name": "stdout",
          "text": [
            "70\n"
          ]
        }
      ]
    },
    {
      "cell_type": "code",
      "source": [
        "###################################### Example 2 on Types ##################################\n",
        "class A:\n",
        "  def m1(self):\n",
        "    return 20\n",
        "\n",
        "class B(A):\n",
        "  def m1(self):\n",
        "    val = super().m1()+30\n",
        "    return val\n",
        "\n",
        "class C(B):\n",
        "  def m1(self):\n",
        "    val = self.m1()+20 # since we are using self inside m1() and also passing it into m1() hence it generate the state of recursion with no ending.\n",
        "    #val = super().m1()+20\n",
        "    return val\n",
        "\n",
        "obj = C()\n",
        "print(obj.m1())"
      ],
      "metadata": {
        "colab": {
          "base_uri": "https://localhost:8080/"
        },
        "id": "uuWXLMSQPe8W",
        "outputId": "f6965b25-22a6-43c8-a31e-4223f4877acd"
      },
      "execution_count": 16,
      "outputs": [
        {
          "output_type": "stream",
          "name": "stdout",
          "text": [
            "70\n"
          ]
        }
      ]
    },
    {
      "cell_type": "code",
      "source": [],
      "metadata": {
        "id": "spCyWFE-xLDG"
      },
      "execution_count": null,
      "outputs": []
    }
  ]
}