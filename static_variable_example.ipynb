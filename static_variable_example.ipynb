{
  "nbformat": 4,
  "nbformat_minor": 0,
  "metadata": {
    "colab": {
      "provenance": [],
      "authorship_tag": "ABX9TyPm7LhfSF5I1jigD/88wwt2",
      "include_colab_link": true
    },
    "kernelspec": {
      "name": "python3",
      "display_name": "Python 3"
    },
    "language_info": {
      "name": "python"
    }
  },
  "cells": [
    {
      "cell_type": "markdown",
      "metadata": {
        "id": "view-in-github",
        "colab_type": "text"
      },
      "source": [
        "<a href=\"https://colab.research.google.com/github/jitendra986/OOP_Python/blob/main/static_variable_example.ipynb\" target=\"_parent\"><img src=\"https://colab.research.google.com/assets/colab-badge.svg\" alt=\"Open In Colab\"/></a>"
      ]
    },
    {
      "cell_type": "code",
      "execution_count": null,
      "metadata": {
        "id": "4G_vUJO6n4Zx"
      },
      "outputs": [],
      "source": [
        "#Here any programmer can make chnages in static variable\n",
        "class Atm:\n",
        "  counter = 1\n",
        "  #The variable that are declared outside constructor static/class variable\n",
        "  def __init__(self):\n",
        "    # both the variable are private now\n",
        "    #All the variable are instance variable and declare inside constructor.\n",
        "    self.__pin=\"\"\n",
        "    self.__balance=0\n",
        "\n",
        "    self.sno = Atm.counter\n",
        "\n",
        "    Atm.counter = Atm.counter+1\n",
        "\n",
        "    print(id(self))\n",
        "    #self.menu()\n",
        "\n",
        "  def menu(self):\n",
        "    user_input = input(\"\"\"\n",
        "                      Hello, how would you like to proceed?\n",
        "                      1. Enter 1 to create pin\n",
        "                      2. Enter 2 to deposit\n",
        "                      3. Enter 3 to withdraw\n",
        "                      4. Enter 4 to check balance\n",
        "                      5. Enter 5 to exit\n",
        "    \"\"\")\n",
        "\n",
        "    if user_input==\"1\":\n",
        "      self.__create_pin()\n",
        "    elif user_input==\"2\":\n",
        "      self.deposit()\n",
        "    elif user_input==\"3\":\n",
        "      self.withdraw()\n",
        "    elif user_input==\"4\":\n",
        "      self.check_balance()\n",
        "    else:\n",
        "      print(\"bye\")\n",
        "\n",
        "  def __create_pin(self):\n",
        "    self.__pin= input(\"Enter your pin\")\n",
        "    print(\"Pin set successfully\")\n",
        "\n",
        "  def deposit(self):\n",
        "    temp = input(\"Enter your pin\")\n",
        "    if temp == self.__pin:\n",
        "      amount = int(input(\"Enter the amount\"))\n",
        "      self.__balance = self.__balance +amount\n",
        "      print(\"Deposit Successful\")\n",
        "    else:\n",
        "      print(\"Invalid pin\")\n",
        "  def withdraw(self):\n",
        "    temp = input(\"Enter your pin\")\n",
        "    if temp == self.__pin:\n",
        "      amount = int(input(\"Enter the amount\"))\n",
        "      if amount < self.__balance:\n",
        "        self.__balance = self.__balance - amount\n",
        "        print(\"Withdraw Successful\")\n",
        "      else:\n",
        "        print(\"Insufficient fund\")\n",
        "    else:\n",
        "      print(\"Invalid pin\")\n",
        "\n",
        "  def check_balance(self):\n",
        "   temp = input(\"Enter your pin\")\n",
        "\n",
        "   if temp ==self.__pin:\n",
        "    print(self.__balance)\n",
        "   else:\n",
        "    print(\"Invalid pin\")"
      ]
    },
    {
      "cell_type": "code",
      "source": [
        "c1 = Atm()"
      ],
      "metadata": {
        "colab": {
          "base_uri": "https://localhost:8080/"
        },
        "id": "FSlreOATrH9I",
        "outputId": "e31ad000-40bf-43f8-fb8e-0c50595344a4"
      },
      "execution_count": null,
      "outputs": [
        {
          "output_type": "stream",
          "name": "stdout",
          "text": [
            "140655563878560\n"
          ]
        }
      ]
    },
    {
      "cell_type": "code",
      "source": [
        "c2 = Atm()"
      ],
      "metadata": {
        "colab": {
          "base_uri": "https://localhost:8080/"
        },
        "id": "KFlM6GDyrTSU",
        "outputId": "d7ea0e4a-1927-468b-eb17-5cf34eb084f9"
      },
      "execution_count": null,
      "outputs": [
        {
          "output_type": "stream",
          "name": "stdout",
          "text": [
            "140655563879760\n"
          ]
        }
      ]
    },
    {
      "cell_type": "code",
      "source": [
        "c3 = Atm()"
      ],
      "metadata": {
        "colab": {
          "base_uri": "https://localhost:8080/"
        },
        "id": "rBQwHvxgrVvu",
        "outputId": "0ac8e0ba-8a41-4184-e2db-462ef4593e09"
      },
      "execution_count": null,
      "outputs": [
        {
          "output_type": "stream",
          "name": "stdout",
          "text": [
            "140655563881824\n"
          ]
        }
      ]
    },
    {
      "cell_type": "code",
      "source": [
        "c1.sno"
      ],
      "metadata": {
        "colab": {
          "base_uri": "https://localhost:8080/"
        },
        "id": "KmzEBFv0rXZT",
        "outputId": "f63fe704-627e-4e67-9c1e-28aa21c9c6f0"
      },
      "execution_count": null,
      "outputs": [
        {
          "output_type": "execute_result",
          "data": {
            "text/plain": [
              "1"
            ]
          },
          "metadata": {},
          "execution_count": 47
        }
      ]
    },
    {
      "cell_type": "code",
      "source": [
        "c2.sno"
      ],
      "metadata": {
        "colab": {
          "base_uri": "https://localhost:8080/"
        },
        "id": "C5hOmWwTrdN4",
        "outputId": "b930ee86-c5e7-4bd6-ec7e-61ec4d0e10f3"
      },
      "execution_count": null,
      "outputs": [
        {
          "output_type": "execute_result",
          "data": {
            "text/plain": [
              "2"
            ]
          },
          "metadata": {},
          "execution_count": 48
        }
      ]
    },
    {
      "cell_type": "code",
      "source": [
        "c3.sno"
      ],
      "metadata": {
        "colab": {
          "base_uri": "https://localhost:8080/"
        },
        "id": "omDxfMBRv6R9",
        "outputId": "7b0621c0-dec5-4708-8ecb-317a05174050"
      },
      "execution_count": null,
      "outputs": [
        {
          "output_type": "execute_result",
          "data": {
            "text/plain": [
              "3"
            ]
          },
          "metadata": {},
          "execution_count": 49
        }
      ]
    },
    {
      "cell_type": "code",
      "source": [
        "Atm.counter='abc'"
      ],
      "metadata": {
        "id": "f6dItzkov_dC"
      },
      "execution_count": null,
      "outputs": []
    },
    {
      "cell_type": "code",
      "source": [
        "c4 =Atm()"
      ],
      "metadata": {
        "colab": {
          "base_uri": "https://localhost:8080/",
          "height": 298
        },
        "id": "In5WEGbcwHen",
        "outputId": "c2691428-7d31-4367-f79b-6329453dbb3f"
      },
      "execution_count": null,
      "outputs": [
        {
          "output_type": "error",
          "ename": "TypeError",
          "evalue": "ignored",
          "traceback": [
            "\u001b[0;31m---------------------------------------------------------------------------\u001b[0m",
            "\u001b[0;31mTypeError\u001b[0m                                 Traceback (most recent call last)",
            "\u001b[0;32m<ipython-input-52-0794d90465cd>\u001b[0m in \u001b[0;36m<cell line: 1>\u001b[0;34m()\u001b[0m\n\u001b[0;32m----> 1\u001b[0;31m \u001b[0mc4\u001b[0m \u001b[0;34m=\u001b[0m\u001b[0mAtm\u001b[0m\u001b[0;34m(\u001b[0m\u001b[0;34m)\u001b[0m\u001b[0;34m\u001b[0m\u001b[0;34m\u001b[0m\u001b[0m\n\u001b[0m",
            "\u001b[0;32m<ipython-input-43-b1eb91d82b59>\u001b[0m in \u001b[0;36m__init__\u001b[0;34m(self)\u001b[0m\n\u001b[1;32m     11\u001b[0m     \u001b[0mself\u001b[0m\u001b[0;34m.\u001b[0m\u001b[0msno\u001b[0m \u001b[0;34m=\u001b[0m \u001b[0mAtm\u001b[0m\u001b[0;34m.\u001b[0m\u001b[0mcounter\u001b[0m\u001b[0;34m\u001b[0m\u001b[0;34m\u001b[0m\u001b[0m\n\u001b[1;32m     12\u001b[0m \u001b[0;34m\u001b[0m\u001b[0m\n\u001b[0;32m---> 13\u001b[0;31m     \u001b[0mAtm\u001b[0m\u001b[0;34m.\u001b[0m\u001b[0mcounter\u001b[0m \u001b[0;34m=\u001b[0m \u001b[0mAtm\u001b[0m\u001b[0;34m.\u001b[0m\u001b[0mcounter\u001b[0m\u001b[0;34m+\u001b[0m\u001b[0;36m1\u001b[0m\u001b[0;34m\u001b[0m\u001b[0;34m\u001b[0m\u001b[0m\n\u001b[0m\u001b[1;32m     14\u001b[0m \u001b[0;34m\u001b[0m\u001b[0m\n\u001b[1;32m     15\u001b[0m     \u001b[0mprint\u001b[0m\u001b[0;34m(\u001b[0m\u001b[0mid\u001b[0m\u001b[0;34m(\u001b[0m\u001b[0mself\u001b[0m\u001b[0;34m)\u001b[0m\u001b[0;34m)\u001b[0m\u001b[0;34m\u001b[0m\u001b[0;34m\u001b[0m\u001b[0m\n",
            "\u001b[0;31mTypeError\u001b[0m: can only concatenate str (not \"int\") to str"
          ]
        }
      ]
    },
    {
      "cell_type": "code",
      "source": [],
      "metadata": {
        "id": "z8ueIOHFwKbW"
      },
      "execution_count": null,
      "outputs": []
    }
  ]
}