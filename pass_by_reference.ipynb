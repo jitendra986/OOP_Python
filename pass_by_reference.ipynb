{
  "nbformat": 4,
  "nbformat_minor": 0,
  "metadata": {
    "colab": {
      "provenance": [],
      "authorship_tag": "ABX9TyP/5OofCoeviUSyHLhevYLQ",
      "include_colab_link": true
    },
    "kernelspec": {
      "name": "python3",
      "display_name": "Python 3"
    },
    "language_info": {
      "name": "python"
    }
  },
  "cells": [
    {
      "cell_type": "markdown",
      "metadata": {
        "id": "view-in-github",
        "colab_type": "text"
      },
      "source": [
        "<a href=\"https://colab.research.google.com/github/jitendra986/OOP_Python/blob/main/pass_by_reference.ipynb\" target=\"_parent\"><img src=\"https://colab.research.google.com/assets/colab-badge.svg\" alt=\"Open In Colab\"/></a>"
      ]
    },
    {
      "cell_type": "code",
      "execution_count": null,
      "metadata": {
        "colab": {
          "base_uri": "https://localhost:8080/"
        },
        "id": "UHT6aDh9KUVG",
        "outputId": "30e459d6-7fb8-4dfa-9de0-b65b7a25673c"
      },
      "outputs": [
        {
          "output_type": "stream",
          "name": "stdout",
          "text": [
            "Hello Ankita ma'am\n"
          ]
        }
      ],
      "source": [
        "class Customer:\n",
        "\n",
        "  def __init__(self, name, gender):\n",
        "    self.name = name\n",
        "    self.gender = gender\n",
        "\n",
        "def greet(customer):\n",
        "  if customer.gender==\"Male\":\n",
        "    print(\"Hello\", customer.name,\"Sir\")\n",
        "  else:\n",
        "    print(\"Hello\", customer.name,\"ma'am\")\n",
        "#cust =Customer(\"Jitendra\",'Male')\n",
        "cust =Customer(\"Ankita\",'Female')\n",
        "#print(cust.name)\n",
        "\n",
        "greet(cust)\n"
      ]
    },
    {
      "cell_type": "code",
      "source": [
        "class Customer:\n",
        "\n",
        "  def __init__(self, name, gender):\n",
        "    self.name = name\n",
        "    self.gender = gender\n",
        "\n",
        "def greet(customer):\n",
        "  if customer.gender==\"Male\":\n",
        "    print(\"Hello\", customer.name,\"Sir\")\n",
        "  else:\n",
        "    print(\"Hello\", customer.name,\"ma'am\")\n",
        "\n",
        "  cust2 =Customer(\"Nitish\",'Male')\n",
        "\n",
        "  return cust2\n",
        "\n",
        "cust =Customer(\"Ankita\",'Female')\n",
        "new_cust = greet(cust)\n",
        "print(new_cust.name)"
      ],
      "metadata": {
        "colab": {
          "base_uri": "https://localhost:8080/"
        },
        "id": "MecRCIVDLkx4",
        "outputId": "28f6a7e9-70b5-42a9-81d7-fbf05d618df6"
      },
      "execution_count": null,
      "outputs": [
        {
          "output_type": "stream",
          "name": "stdout",
          "text": [
            "Hello Ankita ma'am\n",
            "Nitish\n"
          ]
        }
      ]
    },
    {
      "cell_type": "code",
      "source": [
        "class Customer:\n",
        "\n",
        "  def __init__(self, name):\n",
        "    self.name = name\n",
        "    #self.gender = gender\n",
        "\n",
        "def greet(customer):\n",
        "  print(id(customer))\n",
        "\n",
        "cust = Customer(\"Ankita\")\n",
        "print(id(cust))\n",
        "\n",
        "greet(cust)"
      ],
      "metadata": {
        "colab": {
          "base_uri": "https://localhost:8080/"
        },
        "id": "gYFd0kw1cDmt",
        "outputId": "dfd6aefb-d6a7-46ae-d2e0-3a0b245fffcf"
      },
      "execution_count": null,
      "outputs": [
        {
          "output_type": "stream",
          "name": "stdout",
          "text": [
            "140217738425920\n",
            "140217738425920\n"
          ]
        }
      ]
    },
    {
      "cell_type": "code",
      "source": [
        "a=3\n",
        "b=a\n",
        "id(a)\n"
      ],
      "metadata": {
        "colab": {
          "base_uri": "https://localhost:8080/"
        },
        "id": "YHe8l8RZc2Tb",
        "outputId": "f878b1a3-9e74-4d3a-a01d-f5c14131ceab"
      },
      "execution_count": null,
      "outputs": [
        {
          "output_type": "execute_result",
          "data": {
            "text/plain": [
              "140218032095536"
            ]
          },
          "metadata": {},
          "execution_count": 15
        }
      ]
    },
    {
      "cell_type": "code",
      "source": [
        "id(b)"
      ],
      "metadata": {
        "colab": {
          "base_uri": "https://localhost:8080/"
        },
        "id": "rgE7-YpldDhf",
        "outputId": "ca8a9085-a9db-4949-ae5b-fc6f63fe457d"
      },
      "execution_count": null,
      "outputs": [
        {
          "output_type": "execute_result",
          "data": {
            "text/plain": [
              "140218032095536"
            ]
          },
          "metadata": {},
          "execution_count": 16
        }
      ]
    },
    {
      "cell_type": "code",
      "source": [
        "class Customer:\n",
        "\n",
        "  def __init__(self, name):\n",
        "    self.name = name\n",
        "\n",
        "\n",
        "def greet(customer):\n",
        "  customer.name='Nitish'\n",
        "  print(customer.name)\n",
        "\n",
        "cust = Customer(\"Ankita\")\n",
        "greet(cust)\n",
        "\n",
        "print(cust.name)"
      ],
      "metadata": {
        "colab": {
          "base_uri": "https://localhost:8080/"
        },
        "id": "aza4vjfIdEOC",
        "outputId": "37d3f42f-83f1-47a2-a655-2ad54a06101b"
      },
      "execution_count": null,
      "outputs": [
        {
          "output_type": "stream",
          "name": "stdout",
          "text": [
            "Nitish\n",
            "Nitish\n"
          ]
        }
      ]
    },
    {
      "cell_type": "code",
      "source": [
        "class Customer:\n",
        "\n",
        "  def __init__(self, name):\n",
        "    self.name = name\n",
        "\n",
        "\n",
        "def greet(customer):\n",
        "  print(id(customer))\n",
        "  customer.name='Nitish'\n",
        "  print(customer.name)\n",
        "  print(id(customer))\n",
        "\n",
        "cust = Customer(\"Ankita\")\n",
        "print(id(cust))\n",
        "greet(cust)\n",
        "\n",
        "print(cust.name)\n"
      ],
      "metadata": {
        "colab": {
          "base_uri": "https://localhost:8080/"
        },
        "id": "kjOMl8bNeCXg",
        "outputId": "6b836002-3461-4b84-a717-6ac6e8898b93"
      },
      "execution_count": null,
      "outputs": [
        {
          "output_type": "stream",
          "name": "stdout",
          "text": [
            "140216761916560\n",
            "140216761916560\n",
            "Nitish\n",
            "140216761916560\n",
            "Nitish\n"
          ]
        }
      ]
    },
    {
      "cell_type": "code",
      "source": [
        "#class ke objects are mutable like lists, dict and sets"
      ],
      "metadata": {
        "id": "ukL09bCtexVJ"
      },
      "execution_count": null,
      "outputs": []
    },
    {
      "cell_type": "code",
      "source": [
        "def change(L):\n",
        "  print(id(L))\n",
        "  L.append(5)\n",
        "  print(id(L))\n",
        "\n",
        "L1=[1,2,3,4]\n",
        "print(id(L1))\n",
        "print(L1)\n",
        "\n",
        "change(L1[:])# this technique will change the address of object.\n",
        "# If you do not mention the start or end parameter, they are set to none. The technique is considered the fastest for copying list items.--> L1[:]\n",
        "print(L1)"
      ],
      "metadata": {
        "colab": {
          "base_uri": "https://localhost:8080/"
        },
        "id": "tDrCsclXgpRv",
        "outputId": "f78b5bb5-6658-4239-8d72-2cac2c64f2e1"
      },
      "execution_count": null,
      "outputs": [
        {
          "output_type": "stream",
          "name": "stdout",
          "text": [
            "140216760791360\n",
            "[1, 2, 3, 4]\n",
            "140216760814848\n",
            "140216760814848\n",
            "[1, 2, 3, 4]\n"
          ]
        }
      ]
    },
    {
      "cell_type": "code",
      "source": [
        "def change(L):\n",
        "  print(id(L))\n",
        "  L = L+ (5,6)\n",
        "  print(id(L))\n",
        "\n",
        "L1=(1,2,3,4)\n",
        "print(id(L1))\n",
        "print(L1)\n",
        "\n",
        "change(L1)# this technique will not change the address of object because L1 is a tuple which is a immutable data type\n",
        "\n",
        "print(L1)"
      ],
      "metadata": {
        "colab": {
          "base_uri": "https://localhost:8080/"
        },
        "id": "EMk5y5klhJhB",
        "outputId": "02c0e31f-77b3-4cfc-82a0-63e656f06dd1"
      },
      "execution_count": null,
      "outputs": [
        {
          "output_type": "stream",
          "name": "stdout",
          "text": [
            "140216760135376\n",
            "(1, 2, 3, 4)\n",
            "140216760135376\n",
            "140216760056704\n",
            "(1, 2, 3, 4)\n"
          ]
        }
      ]
    },
    {
      "cell_type": "code",
      "source": [
        "class Customer:\n",
        "\n",
        "  def __init__(self, name,age):\n",
        "    self.name = name\n",
        "    self.age = age\n",
        "\n",
        "\n",
        "c1 = Customer(\"Nitish\", 34)\n",
        "c2 = Customer(\"Ankit\", 45)\n",
        "c3 = Customer(\"Neha\", 32)\n",
        "\n",
        "L = [c1,c2,c3]\n",
        "\n",
        "for i in L:\n",
        "  print(i.name, i.age)\n"
      ],
      "metadata": {
        "colab": {
          "base_uri": "https://localhost:8080/"
        },
        "id": "FYA25dKVkuRW",
        "outputId": "3faccff1-858b-408e-9042-b38c68580eb8"
      },
      "execution_count": null,
      "outputs": [
        {
          "output_type": "stream",
          "name": "stdout",
          "text": [
            "Nitish 34\n",
            "Ankit 45\n",
            "Neha 32\n"
          ]
        }
      ]
    },
    {
      "cell_type": "code",
      "source": [
        "class Customer:\n",
        "\n",
        "  def __init__(self, name,age):\n",
        "    self.name = name\n",
        "    self.age = age\n",
        "\n",
        "  def intro(self):\n",
        "    print(\"I am\", self.name, \"and I am\", self.age)\n",
        "\n",
        "c1 = Customer(\"Nitish\", 34)\n",
        "c2 = Customer(\"Ankit\", 45)\n",
        "c3 = Customer(\"Neha\", 32)\n",
        "\n",
        "L = [c1,c2,c3]\n",
        "\n",
        "for i in L:\n",
        "  i.intro()\n"
      ],
      "metadata": {
        "colab": {
          "base_uri": "https://localhost:8080/"
        },
        "id": "18YmWZd8lt2L",
        "outputId": "24d1988e-7467-4065-d35d-ff2854204a42"
      },
      "execution_count": null,
      "outputs": [
        {
          "output_type": "stream",
          "name": "stdout",
          "text": [
            "I am Nitish and I am 34\n",
            "I am Ankit and I am 45\n",
            "I am Neha and I am 32\n"
          ]
        }
      ]
    },
    {
      "cell_type": "code",
      "source": [],
      "metadata": {
        "id": "8fcPqHhulz8F"
      },
      "execution_count": null,
      "outputs": []
    }
  ]
}