{
  "nbformat": 4,
  "nbformat_minor": 0,
  "metadata": {
    "colab": {
      "provenance": [],
      "authorship_tag": "ABX9TyN/bgMTiuKO+zvAdNO6NAnd",
      "include_colab_link": true
    },
    "kernelspec": {
      "name": "python3",
      "display_name": "Python 3"
    },
    "language_info": {
      "name": "python"
    }
  },
  "cells": [
    {
      "cell_type": "markdown",
      "metadata": {
        "id": "view-in-github",
        "colab_type": "text"
      },
      "source": [
        "<a href=\"https://colab.research.google.com/github/jitendra986/OOP_Python/blob/main/Super_keyword_example1.ipynb\" target=\"_parent\"><img src=\"https://colab.research.google.com/assets/colab-badge.svg\" alt=\"Open In Colab\"/></a>"
      ]
    },
    {
      "cell_type": "code",
      "execution_count": 2,
      "metadata": {
        "colab": {
          "base_uri": "https://localhost:8080/"
        },
        "id": "F541uMz8US3v",
        "outputId": "7759d200-221c-4501-d438-3742e894d786"
      },
      "outputs": [
        {
          "output_type": "stream",
          "name": "stdout",
          "text": [
            "Inside phone Constructor\n",
            "Inside Smartphone constructor\n",
            "Android\n",
            "Samsung\n"
          ]
        }
      ],
      "source": [
        "class Phone:\n",
        "  def __init__(self, price,brand, camera):\n",
        "    print(\"Inside phone Constructor\")\n",
        "    self.__price = price\n",
        "    self.brand = brand\n",
        "    self.camera = camera\n",
        "\n",
        "class SmartPhone(Phone):\n",
        "  def __init__(self, price, brand,camera, os, ram):\n",
        "    super().__init__(price, brand, camera)\n",
        "    self.os = os\n",
        "    self.ram = ram\n",
        "    print(\"Inside Smartphone constructor\")\n",
        "\n",
        "s = SmartPhone(200000, \"Samsung\", 12, \"Android\",2)\n",
        "print(s.os)\n",
        "print(s.brand)"
      ]
    },
    {
      "cell_type": "code",
      "source": [
        "class Phone:\n",
        "  def __init__(self, price,brand, camera):\n",
        "    print(\"Inside phone Constructor\")\n",
        "    self.__price = price\n",
        "    self.brand = brand\n",
        "    self.camera = camera\n",
        "\n",
        "  def buy(self):\n",
        "    print(\"Buying a phone\")\n",
        "\n",
        "class SmartPhone(Phone):\n",
        "  def buy(self):\n",
        "    print(\"Buying a smartphone\")\n",
        "    super().buy()\n",
        "\n",
        "s = SmartPhone(200000, \"Samsung\", 12)\n",
        "s.buy()"
      ],
      "metadata": {
        "colab": {
          "base_uri": "https://localhost:8080/"
        },
        "id": "LX1w5EoawYb4",
        "outputId": "47f9245b-f7d3-45f7-c757-50f173c54c6f"
      },
      "execution_count": 1,
      "outputs": [
        {
          "output_type": "stream",
          "name": "stdout",
          "text": [
            "Inside phone Constructor\n",
            "Buying a smartphone\n",
            "Buying a phone\n"
          ]
        }
      ]
    },
    {
      "cell_type": "code",
      "source": [
        "class Parent:\n",
        "  def __init__(self, num):\n",
        "    self.__num = num\n",
        "\n",
        "  def get_num(self):\n",
        "    return self.__num\n",
        "\n",
        "class Child(Parent):\n",
        "  def __init__(self,num,val):\n",
        "    super().__init__(num)\n",
        "    self.__val=val\n",
        "\n",
        "  def get_val(self):\n",
        "    return self.__val\n",
        "\n",
        "son = Child(100,200)\n",
        "print(son.get_num())\n",
        "print(son.get_val())"
      ],
      "metadata": {
        "colab": {
          "base_uri": "https://localhost:8080/"
        },
        "id": "1h1ArboEcAfl",
        "outputId": "8d98f258-198d-4960-d958-1bce22d6b924"
      },
      "execution_count": 4,
      "outputs": [
        {
          "output_type": "stream",
          "name": "stdout",
          "text": [
            "100\n",
            "200\n"
          ]
        }
      ]
    },
    {
      "cell_type": "code",
      "source": [
        "class Parent:\n",
        "\n",
        "  def __init__(self):\n",
        "    self.num=100\n",
        "\n",
        "class Child(Parent):\n",
        "  def __init__(self):\n",
        "    super().__init__()\n",
        "    self.var=200\n",
        "\n",
        "  def show(self):\n",
        "    print(self.num)\n",
        "    print(self.var)\n",
        "\n",
        "son = Child()\n",
        "son.show()"
      ],
      "metadata": {
        "colab": {
          "base_uri": "https://localhost:8080/"
        },
        "id": "f4xNQFrTyM9Q",
        "outputId": "ee805a7d-f6fd-4ed3-ee4b-96a60bf7ae24"
      },
      "execution_count": 6,
      "outputs": [
        {
          "output_type": "stream",
          "name": "stdout",
          "text": [
            "100\n",
            "200\n"
          ]
        }
      ]
    },
    {
      "cell_type": "code",
      "source": [
        "class Parent:\n",
        "\n",
        "  def __init__(self):\n",
        "    self.__num=100\n",
        "\n",
        "  def show(self):\n",
        "    print(\"Parent:\", self.__num)\n",
        "\n",
        "class Child(Parent):\n",
        "  def __init__(self):\n",
        "    super().__init__()\n",
        "    self.__var=10\n",
        "\n",
        "  def show(self):\n",
        "    print(\"Child:\",self.__var)\n",
        "\n",
        "dad=Parent()\n",
        "dad.show()\n",
        "\n",
        "son = Child()\n",
        "son.show()"
      ],
      "metadata": {
        "colab": {
          "base_uri": "https://localhost:8080/"
        },
        "id": "FOWp9lr08Omo",
        "outputId": "632f11ca-3a8d-4599-b810-080601dd7a0d"
      },
      "execution_count": 9,
      "outputs": [
        {
          "output_type": "stream",
          "name": "stdout",
          "text": [
            "Parent: 100\n",
            "Child: 10\n"
          ]
        }
      ]
    },
    {
      "cell_type": "code",
      "source": [],
      "metadata": {
        "id": "FpmRyOus9MTy"
      },
      "execution_count": null,
      "outputs": []
    }
  ]
}