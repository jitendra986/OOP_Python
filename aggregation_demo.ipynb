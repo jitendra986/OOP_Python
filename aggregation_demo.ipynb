{
  "nbformat": 4,
  "nbformat_minor": 0,
  "metadata": {
    "colab": {
      "provenance": [],
      "authorship_tag": "ABX9TyO9vBPEHZYgikgrBrxIR7c0",
      "include_colab_link": true
    },
    "kernelspec": {
      "name": "python3",
      "display_name": "Python 3"
    },
    "language_info": {
      "name": "python"
    }
  },
  "cells": [
    {
      "cell_type": "markdown",
      "metadata": {
        "id": "view-in-github",
        "colab_type": "text"
      },
      "source": [
        "<a href=\"https://colab.research.google.com/github/jitendra986/OOP_Python/blob/main/aggregation_demo.ipynb\" target=\"_parent\"><img src=\"https://colab.research.google.com/assets/colab-badge.svg\" alt=\"Open In Colab\"/></a>"
      ]
    },
    {
      "cell_type": "code",
      "execution_count": 17,
      "metadata": {
        "colab": {
          "base_uri": "https://localhost:8080/"
        },
        "id": "m3JJ1hVCSbKy",
        "outputId": "30d775ba-0d8c-472e-b847-5574f30e7c0a"
      },
      "outputs": [
        {
          "output_type": "stream",
          "name": "stdout",
          "text": [
            "122011\n"
          ]
        }
      ],
      "source": [
        "class Customer:\n",
        "  def __init__(self,name,gender,address):\n",
        "    self.name=name\n",
        "    self.gender=gender\n",
        "    self.address=address\n",
        "\n",
        "  def edit_profile(self,new_name,new_city,new_pin,new_state):\n",
        "    self.name= new_name\n",
        "    self.address.change_address(new_city,new_pin,new_state)\n",
        "\n",
        "class Address:\n",
        "\n",
        "  def __init__(self,city,pincode,state):\n",
        "    self.city=city\n",
        "    self.pincode=pincode\n",
        "    self.state=state\n",
        "\n",
        "  def change_address(self,new_city,new_pin,new_state):\n",
        "    self.city= new_city\n",
        "    self.pincode= new_pin\n",
        "    self.state= new_state\n",
        "\n",
        "add = Address(\"Kolkata\",700156,\"WB\")\n",
        "cust = Customer(\"Nitish\",\"Male\",add)\n",
        "cust.edit_profile(\"Jitendra\",\"Guragaon\",122011,\"Haryana\")\n",
        "print(cust.address.pincode)"
      ]
    },
    {
      "cell_type": "code",
      "source": [
        "print(cust.address.state)"
      ],
      "metadata": {
        "colab": {
          "base_uri": "https://localhost:8080/"
        },
        "id": "p9cmgGtOTpdM",
        "outputId": "d1e46a69-899d-4845-be56-599deb77cefb"
      },
      "execution_count": 18,
      "outputs": [
        {
          "output_type": "stream",
          "name": "stdout",
          "text": [
            "Haryana\n"
          ]
        }
      ]
    },
    {
      "cell_type": "code",
      "source": [
        "print(cust.name)"
      ],
      "metadata": {
        "colab": {
          "base_uri": "https://localhost:8080/"
        },
        "id": "B2psfSteb1de",
        "outputId": "f121f9d6-958e-403f-b977-d3c4b6067479"
      },
      "execution_count": 20,
      "outputs": [
        {
          "output_type": "stream",
          "name": "stdout",
          "text": [
            "Jitendra\n"
          ]
        }
      ]
    },
    {
      "cell_type": "code",
      "source": [],
      "metadata": {
        "id": "6C3oL1dNi9qk"
      },
      "execution_count": null,
      "outputs": []
    }
  ]
}