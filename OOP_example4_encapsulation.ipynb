{
  "nbformat": 4,
  "nbformat_minor": 0,
  "metadata": {
    "colab": {
      "provenance": [],
      "authorship_tag": "ABX9TyP7sVuCrJ/yTa7WyaSKVXYG",
      "include_colab_link": true
    },
    "kernelspec": {
      "name": "python3",
      "display_name": "Python 3"
    },
    "language_info": {
      "name": "python"
    }
  },
  "cells": [
    {
      "cell_type": "markdown",
      "metadata": {
        "id": "view-in-github",
        "colab_type": "text"
      },
      "source": [
        "<a href=\"https://colab.research.google.com/github/jitendra986/OOP_Python/blob/main/OOP_example4_encapsulation.ipynb\" target=\"_parent\"><img src=\"https://colab.research.google.com/assets/colab-badge.svg\" alt=\"Open In Colab\"/></a>"
      ]
    },
    {
      "cell_type": "code",
      "execution_count": null,
      "metadata": {
        "id": "RFnbIXpU7E0z"
      },
      "outputs": [],
      "source": [
        "class Atm:\n",
        "  def __init__(self):\n",
        "    # both the variable are private now\n",
        "    self.__pin=\"\"\n",
        "    self.__balance=0\n",
        "\n",
        "    print(id(self))\n",
        "\n",
        "    self.menu()\n",
        "\n",
        "  def get_pin(self):\n",
        "    return self.__pin\n",
        "\n",
        "  def set_pin(self,new_pin):\n",
        "    if type(new_pin)==str:\n",
        "      self.__pin = new_pin\n",
        "      print(\"Pin changed\")\n",
        "    else:\n",
        "      print(\"Not allowed\")\n",
        "\n",
        "  def menu(self):\n",
        "    user_input = input(\"\"\"\n",
        "                      Hello, how would you like to proceed?\n",
        "                      1. Enter 1 to create pin\n",
        "                      2. Enter 2 to deposit\n",
        "                      3. Enter 3 to withdraw\n",
        "                      4. Enter 4 to check balance\n",
        "                      5. Enter 5 to exit\n",
        "    \"\"\")\n",
        "\n",
        "    if user_input==\"1\":\n",
        "      self.__create_pin()\n",
        "    elif user_input==\"2\":\n",
        "      self.deposit()\n",
        "    elif user_input==\"3\":\n",
        "      self.withdraw()\n",
        "    elif user_input==\"4\":\n",
        "      self.check_balance()\n",
        "    else:\n",
        "      print(\"bye\")\n",
        "\n",
        "  def __create_pin(self):\n",
        "    self.__pin= input(\"Enter your pin\")\n",
        "    print(\"Pin set successfully\")\n",
        "\n",
        "  def deposit(self):\n",
        "    temp = input(\"Enter your pin\")\n",
        "    if temp == self.__pin:\n",
        "      amount = int(input(\"Enter the amount\"))\n",
        "      self.__balance = self.__balance +amount\n",
        "      print(\"Deposit Successful\")\n",
        "    else:\n",
        "      print(\"Invalid pin\")\n",
        "  def withdraw(self):\n",
        "    temp = input(\"Enter your pin\")\n",
        "    if temp == self.__pin:\n",
        "      amount = int(input(\"Enter the amount\"))\n",
        "      if amount < self.__balance:\n",
        "        self.__balance = self.__balance - amount\n",
        "        print(\"Withdraw Successful\")\n",
        "      else:\n",
        "        print(\"Insufficient fund\")\n",
        "    else:\n",
        "      print(\"Invalid pin\")\n",
        "\n",
        "  def check_balance(self):\n",
        "   temp = input(\"Enter your pin\")\n",
        "\n",
        "   if temp ==self.__pin:\n",
        "    print(self.__balance)\n",
        "   else:\n",
        "    print(\"Invalid pin\")"
      ]
    },
    {
      "cell_type": "code",
      "source": [
        "sbi = Atm()"
      ],
      "metadata": {
        "colab": {
          "base_uri": "https://localhost:8080/"
        },
        "id": "Ou92MjdQ7_hw",
        "outputId": "bec080e8-18f8-402e-c793-769d496b0b3f"
      },
      "execution_count": null,
      "outputs": [
        {
          "output_type": "stream",
          "name": "stdout",
          "text": [
            "135371551772960\n",
            "\n",
            "                      Hello, how would you like to proceed?\n",
            "                      1. Enter 1 to create pin\n",
            "                      2. Enter 2 to deposit\n",
            "                      3. Enter 3 to withdraw\n",
            "                      4. Enter 4 to check balance\n",
            "                      5. Enter 5 to exit\n",
            "    1\n",
            "Enter your pin1234\n",
            "Pin set successfully\n"
          ]
        }
      ]
    },
    {
      "cell_type": "code",
      "source": [
        "sbi.get_pin()"
      ],
      "metadata": {
        "colab": {
          "base_uri": "https://localhost:8080/",
          "height": 35
        },
        "id": "x03Ggt_o8Ds-",
        "outputId": "4be86ba0-7c64-4f39-8c18-8e420b58e5f6"
      },
      "execution_count": null,
      "outputs": [
        {
          "output_type": "execute_result",
          "data": {
            "text/plain": [
              "'1234'"
            ],
            "application/vnd.google.colaboratory.intrinsic+json": {
              "type": "string"
            }
          },
          "metadata": {},
          "execution_count": 13
        }
      ]
    },
    {
      "cell_type": "code",
      "source": [
        "sbi.set_pin(\"2345\")"
      ],
      "metadata": {
        "colab": {
          "base_uri": "https://localhost:8080/"
        },
        "id": "1EslNcWT8Q5_",
        "outputId": "45cd682c-8c14-4d8e-8629-53b68f40250c"
      },
      "execution_count": null,
      "outputs": [
        {
          "output_type": "stream",
          "name": "stdout",
          "text": [
            "Pin changed\n"
          ]
        }
      ]
    },
    {
      "cell_type": "code",
      "source": [
        "sbi.get_pin()"
      ],
      "metadata": {
        "colab": {
          "base_uri": "https://localhost:8080/",
          "height": 35
        },
        "id": "29TpSobW8ZTg",
        "outputId": "61473959-b008-4d07-91df-1d0797b6e990"
      },
      "execution_count": null,
      "outputs": [
        {
          "output_type": "execute_result",
          "data": {
            "text/plain": [
              "'2345'"
            ],
            "application/vnd.google.colaboratory.intrinsic+json": {
              "type": "string"
            }
          },
          "metadata": {},
          "execution_count": 17
        }
      ]
    },
    {
      "cell_type": "code",
      "source": [
        "sbi.deposit()"
      ],
      "metadata": {
        "colab": {
          "base_uri": "https://localhost:8080/"
        },
        "id": "PFhdGaiH8cYG",
        "outputId": "351b9995-3952-4426-e497-908b3146bdff"
      },
      "execution_count": null,
      "outputs": [
        {
          "output_type": "stream",
          "name": "stdout",
          "text": [
            "Enter your pin2345\n",
            "Enter the amount50000\n",
            "Deposit Successful\n"
          ]
        }
      ]
    },
    {
      "cell_type": "code",
      "source": [
        "sbi.check_balance()"
      ],
      "metadata": {
        "colab": {
          "base_uri": "https://localhost:8080/"
        },
        "id": "GVwKdP128ht7",
        "outputId": "dd95ef1e-458b-42fb-f927-3052d68df214"
      },
      "execution_count": null,
      "outputs": [
        {
          "output_type": "stream",
          "name": "stdout",
          "text": [
            "Enter your pin2345\n",
            "50000\n"
          ]
        }
      ]
    },
    {
      "cell_type": "code",
      "source": [],
      "metadata": {
        "id": "c4hn4YSc8ls0"
      },
      "execution_count": null,
      "outputs": []
    }
  ]
}