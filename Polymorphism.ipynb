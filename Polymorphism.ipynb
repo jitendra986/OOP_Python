{
  "nbformat": 4,
  "nbformat_minor": 0,
  "metadata": {
    "colab": {
      "provenance": [],
      "authorship_tag": "ABX9TyMgHe7UwYx0X6zVKW3jIlUu",
      "include_colab_link": true
    },
    "kernelspec": {
      "name": "python3",
      "display_name": "Python 3"
    },
    "language_info": {
      "name": "python"
    }
  },
  "cells": [
    {
      "cell_type": "markdown",
      "metadata": {
        "id": "view-in-github",
        "colab_type": "text"
      },
      "source": [
        "<a href=\"https://colab.research.google.com/github/jitendra986/OOP_Python/blob/main/Polymorphism.ipynb\" target=\"_parent\"><img src=\"https://colab.research.google.com/assets/colab-badge.svg\" alt=\"Open In Colab\"/></a>"
      ]
    },
    {
      "cell_type": "markdown",
      "source": [
        "#Polymorphism\n",
        "1. Method Overriding(Done)\n",
        "2. Method Overloading\n",
        "3. Operator Overloading"
      ],
      "metadata": {
        "id": "H5aTv9T-4BV2"
      }
    },
    {
      "cell_type": "code",
      "source": [
        "# Method Overloading work perfectly fine in Java but doenot work in python\n",
        "\n",
        "class Geometry:\n",
        "  def area(self, radius):\n",
        "    return 3.14*radius*radius\n",
        "\n",
        "  def area(self,l,b):\n",
        "    return l*b\n",
        "\n",
        "obj = Geometry()\n",
        "print(obj.area(4))"
      ],
      "metadata": {
        "colab": {
          "base_uri": "https://localhost:8080/",
          "height": 210
        },
        "id": "2NQunoMR4UqJ",
        "outputId": "218a9074-3617-4574-e83d-a09467525353"
      },
      "execution_count": 1,
      "outputs": [
        {
          "output_type": "error",
          "ename": "TypeError",
          "evalue": "ignored",
          "traceback": [
            "\u001b[0;31m---------------------------------------------------------------------------\u001b[0m",
            "\u001b[0;31mTypeError\u001b[0m                                 Traceback (most recent call last)",
            "\u001b[0;32m<ipython-input-1-11b4d53d6b8a>\u001b[0m in \u001b[0;36m<cell line: 11>\u001b[0;34m()\u001b[0m\n\u001b[1;32m      9\u001b[0m \u001b[0;34m\u001b[0m\u001b[0m\n\u001b[1;32m     10\u001b[0m \u001b[0mobj\u001b[0m \u001b[0;34m=\u001b[0m \u001b[0mGeometry\u001b[0m\u001b[0;34m(\u001b[0m\u001b[0;34m)\u001b[0m\u001b[0;34m\u001b[0m\u001b[0;34m\u001b[0m\u001b[0m\n\u001b[0;32m---> 11\u001b[0;31m \u001b[0mprint\u001b[0m\u001b[0;34m(\u001b[0m\u001b[0mobj\u001b[0m\u001b[0;34m.\u001b[0m\u001b[0marea\u001b[0m\u001b[0;34m(\u001b[0m\u001b[0;36m4\u001b[0m\u001b[0;34m)\u001b[0m\u001b[0;34m)\u001b[0m\u001b[0;34m\u001b[0m\u001b[0;34m\u001b[0m\u001b[0m\n\u001b[0m",
            "\u001b[0;31mTypeError\u001b[0m: Geometry.area() missing 1 required positional argument: 'b'"
          ]
        }
      ]
    },
    {
      "cell_type": "code",
      "source": [
        "# Method Overloading work perfectly fine in Java but doenot work in python, however one can use trick to achieve it.\n",
        "\n",
        "class Geometry:\n",
        "  def area(self, a, b=0):\n",
        "    if b==0:\n",
        "      return 3.14*a*a\n",
        "\n",
        "    else:\n",
        "      return a*b\n",
        "\n",
        "\n",
        "obj = Geometry()\n",
        "print(\"circle:\",obj.area(4))\n",
        "print(\"Rectangle:\",obj.area(4,5))"
      ],
      "metadata": {
        "colab": {
          "base_uri": "https://localhost:8080/"
        },
        "id": "gJlkL8cX5vgr",
        "outputId": "3089a03a-c497-4955-817c-db309a469edb"
      },
      "execution_count": 4,
      "outputs": [
        {
          "output_type": "stream",
          "name": "stdout",
          "text": [
            "circle: 50.24\n",
            "Rectangle: 20\n"
          ]
        }
      ]
    },
    {
      "cell_type": "code",
      "source": [
        "# Operator overloading\n",
        "\n"
      ],
      "metadata": {
        "id": "a-g41btV6ovb"
      },
      "execution_count": null,
      "outputs": []
    }
  ]
}