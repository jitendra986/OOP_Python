{
  "nbformat": 4,
  "nbformat_minor": 0,
  "metadata": {
    "colab": {
      "provenance": [],
      "authorship_tag": "ABX9TyP1OxDxT6I4xGfMfrpwg+Uk",
      "include_colab_link": true
    },
    "kernelspec": {
      "name": "python3",
      "display_name": "Python 3"
    },
    "language_info": {
      "name": "python"
    }
  },
  "cells": [
    {
      "cell_type": "markdown",
      "metadata": {
        "id": "view-in-github",
        "colab_type": "text"
      },
      "source": [
        "<a href=\"https://colab.research.google.com/github/jitendra986/OOP_Python/blob/main/OOP_Example2_fraction.ipynb\" target=\"_parent\"><img src=\"https://colab.research.google.com/assets/colab-badge.svg\" alt=\"Open In Colab\"/></a>"
      ]
    },
    {
      "cell_type": "code",
      "execution_count": null,
      "metadata": {
        "id": "s1yFb8Fb3VGv"
      },
      "outputs": [],
      "source": [
        "class Fraction:\n",
        "\n",
        "  def __init__(self,n,d):\n",
        "    self.num = n\n",
        "    self.den = d\n",
        "\n",
        "  def __str__(self):\n",
        "    #return 'Hello'\n",
        "    return \"{}/{}\".format(self.num,self.den)\n",
        "\n",
        "  def __add__(self, other):\n",
        "\n",
        "    temp_num = self.num*other.den+self.den*other.num\n",
        "    temp_den = self.den*other.den\n",
        "\n",
        "    return \"{}/{}\".format(temp_num, temp_den)\n",
        "\n",
        "  def __sub__(self, other):\n",
        "\n",
        "    temp_num = self.num*other.den - self.den*other.num\n",
        "    temp_den = self.den*other.den\n",
        "\n",
        "    return \"{}/{}\".format(temp_num, temp_den)\n",
        "\n",
        "\n",
        "  def __mul__(self, other):\n",
        "\n",
        "    temp_num = self.num*other.num\n",
        "    temp_den = self.den*other.den\n",
        "\n",
        "    return \"{}/{}\".format(temp_num, temp_den)\n",
        "\n",
        "  def __truediv__(self, other):\n",
        "\n",
        "    temp_num = self.num*other.den\n",
        "    temp_den = self.den*other.num\n",
        "\n",
        "    return \"{}/{}\".format(temp_num, temp_den)"
      ]
    },
    {
      "cell_type": "code",
      "source": [
        "x = Fraction(4,5)\n",
        "print(x)"
      ],
      "metadata": {
        "colab": {
          "base_uri": "https://localhost:8080/"
        },
        "id": "8xuWS6x74kLz",
        "outputId": "d4bb2b73-e224-4970-849b-32ba8b51d985"
      },
      "execution_count": null,
      "outputs": [
        {
          "output_type": "stream",
          "name": "stdout",
          "text": [
            "4/5\n"
          ]
        }
      ]
    },
    {
      "cell_type": "code",
      "source": [
        "y = Fraction(8,3)\n",
        "print(y)"
      ],
      "metadata": {
        "colab": {
          "base_uri": "https://localhost:8080/"
        },
        "id": "U-zSbC1w4qTW",
        "outputId": "ba40cfe8-9f47-4fee-f5cf-8d6e6085489b"
      },
      "execution_count": null,
      "outputs": [
        {
          "output_type": "stream",
          "name": "stdout",
          "text": [
            "8/3\n"
          ]
        }
      ]
    },
    {
      "cell_type": "code",
      "source": [
        "x+y"
      ],
      "metadata": {
        "colab": {
          "base_uri": "https://localhost:8080/",
          "height": 35
        },
        "id": "pHrDZw6a4v_k",
        "outputId": "4064019d-2d16-4da8-e02e-b055695e3282"
      },
      "execution_count": null,
      "outputs": [
        {
          "output_type": "execute_result",
          "data": {
            "text/plain": [
              "'52/15'"
            ],
            "application/vnd.google.colaboratory.intrinsic+json": {
              "type": "string"
            }
          },
          "metadata": {},
          "execution_count": 32
        }
      ]
    },
    {
      "cell_type": "code",
      "source": [
        "x-y"
      ],
      "metadata": {
        "colab": {
          "base_uri": "https://localhost:8080/",
          "height": 35
        },
        "id": "Wqfs-usZ9RE9",
        "outputId": "a5cdbcdf-347d-4c30-a3a5-5672c42f4862"
      },
      "execution_count": null,
      "outputs": [
        {
          "output_type": "execute_result",
          "data": {
            "text/plain": [
              "'-28/15'"
            ],
            "application/vnd.google.colaboratory.intrinsic+json": {
              "type": "string"
            }
          },
          "metadata": {},
          "execution_count": 33
        }
      ]
    },
    {
      "cell_type": "code",
      "source": [
        "x*y"
      ],
      "metadata": {
        "colab": {
          "base_uri": "https://localhost:8080/",
          "height": 35
        },
        "id": "H0CuDINP-jei",
        "outputId": "8b940aee-544a-4b4f-f0dc-305085e29ee6"
      },
      "execution_count": null,
      "outputs": [
        {
          "output_type": "execute_result",
          "data": {
            "text/plain": [
              "'32/15'"
            ],
            "application/vnd.google.colaboratory.intrinsic+json": {
              "type": "string"
            }
          },
          "metadata": {},
          "execution_count": 34
        }
      ]
    },
    {
      "cell_type": "code",
      "source": [
        "x/y"
      ],
      "metadata": {
        "id": "UrBclMbp_GwS",
        "outputId": "77a61f64-6304-4865-b4a4-86978661f3d8",
        "colab": {
          "base_uri": "https://localhost:8080/",
          "height": 35
        }
      },
      "execution_count": null,
      "outputs": [
        {
          "output_type": "execute_result",
          "data": {
            "text/plain": [
              "'12/40'"
            ],
            "application/vnd.google.colaboratory.intrinsic+json": {
              "type": "string"
            }
          },
          "metadata": {},
          "execution_count": 35
        }
      ]
    },
    {
      "cell_type": "code",
      "source": [],
      "metadata": {
        "id": "OWFuhtsc_JJt"
      },
      "execution_count": null,
      "outputs": []
    }
  ]
}